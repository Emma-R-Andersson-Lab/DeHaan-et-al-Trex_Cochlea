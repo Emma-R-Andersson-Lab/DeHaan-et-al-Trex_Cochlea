
# Heatmap for Observed vs Expected

We are going to use the [Bandler et al.](https://github.com/mayer-lab/Bandler-et-al_lineage/tree/main) code as is to estimate the expected rleations between clusters and then make a heatmap of observed vs expected.

pwd

import pathlib
import pandas as pd

## Data input preparation

Bandler et al takes a CSV file with only two rows (cloneID and cell type) as input.

DATA_DIR = pathlib.Path('../results/Sept2023')

# df = pd.read_excel(DATA_DIR / 'Upset_Trex_mt10dim40_SCT_clone_sub2.xlsx')
df = pd.read_csv(DATA_DIR / 'clonalcoupling2802.csv', sep=";")

df

new_df = df[['cloneID', 'seurat_clusters']].rename(columns={'seurat_clusters': 'ident'})

new_df

new_df.to_csv(DATA_DIR / 'for_bandler_1802.csv')

## Run Bandler

!mkdir Results

!dir ..\results\Sept2023\

!python "Bandler-et-al_lineage/Lineage Coupling Analysis/2_lineage_coupling_analysis.py" -f ../results/Sept2023/for_bandler_1802.csv -N 10000

