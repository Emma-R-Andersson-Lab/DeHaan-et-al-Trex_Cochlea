{
 "cells": [
  {
   "cell_type": "markdown",
   "id": "9530d133-1a63-4c65-be8a-835f1c332aaa",
   "metadata": {},
   "source": [
    "# Heatmap for Observed vs Expected\n",
    "\n",
    "We are going to use the [Bandler et al.](https://github.com/mayer-lab/Bandler-et-al_lineage/tree/main) code as is to estimate the expected rleations between clusters and then make a heatmap of observed vs expected."
   ]
  },
  {
   "cell_type": "code",
   "execution_count": 1,
   "id": "1fdc1f42",
   "metadata": {},
   "outputs": [
    {
     "data": {
      "text/plain": [
       "'C:\\\\Users\\\\sandeh\\\\OneDrive - Karolinska Institutet\\\\lineage_tracing_ear\\\\src'"
      ]
     },
     "execution_count": 1,
     "metadata": {},
     "output_type": "execute_result"
    }
   ],
   "source": [
    "pwd"
   ]
  },
  {
   "cell_type": "code",
   "execution_count": 2,
   "id": "a067c612-0c6b-434e-a8c3-d06fba01e96b",
   "metadata": {},
   "outputs": [],
   "source": [
    "import pathlib\n",
    "import pandas as pd"
   ]
  },
  {
   "cell_type": "markdown",
   "id": "3b04b7f3-ae42-4465-92bd-1e3cfb9c628f",
   "metadata": {},
   "source": [
    "## Data input preparation\n",
    "\n",
    "Bandler et al takes a CSV file with only two rows (cloneID and cell type) as input."
   ]
  },
  {
   "cell_type": "code",
   "execution_count": 3,
   "id": "8b0085d5-052f-4f4b-9320-4c09951625a5",
   "metadata": {},
   "outputs": [],
   "source": [
    "DATA_DIR = pathlib.Path('../results/Sept2023')"
   ]
  },
  {
   "cell_type": "code",
   "execution_count": 19,
   "id": "92e20001-21e6-48b0-99d9-71f3b7f1a1a3",
   "metadata": {},
   "outputs": [],
   "source": [
    "# df = pd.read_excel(DATA_DIR / 'Upset_Trex_mt10dim40_SCT_clone_sub2.xlsx')\n",
    "df = pd.read_csv(DATA_DIR / 'Clonalcoupling1802.csv', sep=\";\")"
   ]
  },
  {
   "cell_type": "code",
   "execution_count": 20,
   "id": "2b7e3e46-b66d-4dcf-9ecd-84c5efa8b75f",
   "metadata": {},
   "outputs": [
    {
     "data": {
      "text/html": [
       "<div>\n",
       "<style scoped>\n",
       "    .dataframe tbody tr th:only-of-type {\n",
       "        vertical-align: middle;\n",
       "    }\n",
       "\n",
       "    .dataframe tbody tr th {\n",
       "        vertical-align: top;\n",
       "    }\n",
       "\n",
       "    .dataframe thead th {\n",
       "        text-align: right;\n",
       "    }\n",
       "</style>\n",
       "<table border=\"1\" class=\"dataframe\">\n",
       "  <thead>\n",
       "    <tr style=\"text-align: right;\">\n",
       "      <th></th>\n",
       "      <th>seurat_clusters</th>\n",
       "      <th>cloneID</th>\n",
       "    </tr>\n",
       "  </thead>\n",
       "  <tbody>\n",
       "    <tr>\n",
       "      <th>0</th>\n",
       "      <td>0</td>\n",
       "      <td>14</td>\n",
       "    </tr>\n",
       "    <tr>\n",
       "      <th>1</th>\n",
       "      <td>0</td>\n",
       "      <td>14</td>\n",
       "    </tr>\n",
       "    <tr>\n",
       "      <th>2</th>\n",
       "      <td>0</td>\n",
       "      <td>14</td>\n",
       "    </tr>\n",
       "    <tr>\n",
       "      <th>3</th>\n",
       "      <td>0</td>\n",
       "      <td>17</td>\n",
       "    </tr>\n",
       "    <tr>\n",
       "      <th>4</th>\n",
       "      <td>0</td>\n",
       "      <td>18</td>\n",
       "    </tr>\n",
       "    <tr>\n",
       "      <th>...</th>\n",
       "      <td>...</td>\n",
       "      <td>...</td>\n",
       "    </tr>\n",
       "    <tr>\n",
       "      <th>10120</th>\n",
       "      <td>22</td>\n",
       "      <td>450</td>\n",
       "    </tr>\n",
       "    <tr>\n",
       "      <th>10121</th>\n",
       "      <td>22</td>\n",
       "      <td>529</td>\n",
       "    </tr>\n",
       "    <tr>\n",
       "      <th>10122</th>\n",
       "      <td>22</td>\n",
       "      <td>529</td>\n",
       "    </tr>\n",
       "    <tr>\n",
       "      <th>10123</th>\n",
       "      <td>22</td>\n",
       "      <td>798</td>\n",
       "    </tr>\n",
       "    <tr>\n",
       "      <th>10124</th>\n",
       "      <td>22</td>\n",
       "      <td>1059</td>\n",
       "    </tr>\n",
       "  </tbody>\n",
       "</table>\n",
       "<p>10125 rows × 2 columns</p>\n",
       "</div>"
      ],
      "text/plain": [
       "       seurat_clusters  cloneID\n",
       "0                    0       14\n",
       "1                    0       14\n",
       "2                    0       14\n",
       "3                    0       17\n",
       "4                    0       18\n",
       "...                ...      ...\n",
       "10120               22      450\n",
       "10121               22      529\n",
       "10122               22      529\n",
       "10123               22      798\n",
       "10124               22     1059\n",
       "\n",
       "[10125 rows x 2 columns]"
      ]
     },
     "execution_count": 20,
     "metadata": {},
     "output_type": "execute_result"
    }
   ],
   "source": [
    "df"
   ]
  },
  {
   "cell_type": "code",
   "execution_count": 21,
   "id": "f6558053-e8af-4657-8d93-feca061f70be",
   "metadata": {},
   "outputs": [],
   "source": [
    "new_df = df[['cloneID', 'seurat_clusters']].rename(columns={'seurat_clusters': 'ident'})"
   ]
  },
  {
   "cell_type": "code",
   "execution_count": 22,
   "id": "d69eb688-c93a-4cab-9495-791b66424cb2",
   "metadata": {},
   "outputs": [
    {
     "data": {
      "text/html": [
       "<div>\n",
       "<style scoped>\n",
       "    .dataframe tbody tr th:only-of-type {\n",
       "        vertical-align: middle;\n",
       "    }\n",
       "\n",
       "    .dataframe tbody tr th {\n",
       "        vertical-align: top;\n",
       "    }\n",
       "\n",
       "    .dataframe thead th {\n",
       "        text-align: right;\n",
       "    }\n",
       "</style>\n",
       "<table border=\"1\" class=\"dataframe\">\n",
       "  <thead>\n",
       "    <tr style=\"text-align: right;\">\n",
       "      <th></th>\n",
       "      <th>cloneID</th>\n",
       "      <th>ident</th>\n",
       "    </tr>\n",
       "  </thead>\n",
       "  <tbody>\n",
       "    <tr>\n",
       "      <th>0</th>\n",
       "      <td>14</td>\n",
       "      <td>0</td>\n",
       "    </tr>\n",
       "    <tr>\n",
       "      <th>1</th>\n",
       "      <td>14</td>\n",
       "      <td>0</td>\n",
       "    </tr>\n",
       "    <tr>\n",
       "      <th>2</th>\n",
       "      <td>14</td>\n",
       "      <td>0</td>\n",
       "    </tr>\n",
       "    <tr>\n",
       "      <th>3</th>\n",
       "      <td>17</td>\n",
       "      <td>0</td>\n",
       "    </tr>\n",
       "    <tr>\n",
       "      <th>4</th>\n",
       "      <td>18</td>\n",
       "      <td>0</td>\n",
       "    </tr>\n",
       "    <tr>\n",
       "      <th>...</th>\n",
       "      <td>...</td>\n",
       "      <td>...</td>\n",
       "    </tr>\n",
       "    <tr>\n",
       "      <th>10120</th>\n",
       "      <td>450</td>\n",
       "      <td>22</td>\n",
       "    </tr>\n",
       "    <tr>\n",
       "      <th>10121</th>\n",
       "      <td>529</td>\n",
       "      <td>22</td>\n",
       "    </tr>\n",
       "    <tr>\n",
       "      <th>10122</th>\n",
       "      <td>529</td>\n",
       "      <td>22</td>\n",
       "    </tr>\n",
       "    <tr>\n",
       "      <th>10123</th>\n",
       "      <td>798</td>\n",
       "      <td>22</td>\n",
       "    </tr>\n",
       "    <tr>\n",
       "      <th>10124</th>\n",
       "      <td>1059</td>\n",
       "      <td>22</td>\n",
       "    </tr>\n",
       "  </tbody>\n",
       "</table>\n",
       "<p>10125 rows × 2 columns</p>\n",
       "</div>"
      ],
      "text/plain": [
       "       cloneID  ident\n",
       "0           14      0\n",
       "1           14      0\n",
       "2           14      0\n",
       "3           17      0\n",
       "4           18      0\n",
       "...        ...    ...\n",
       "10120      450     22\n",
       "10121      529     22\n",
       "10122      529     22\n",
       "10123      798     22\n",
       "10124     1059     22\n",
       "\n",
       "[10125 rows x 2 columns]"
      ]
     },
     "execution_count": 22,
     "metadata": {},
     "output_type": "execute_result"
    }
   ],
   "source": [
    "new_df"
   ]
  },
  {
   "cell_type": "code",
   "execution_count": 23,
   "id": "45520d85-ea75-404d-80d4-96cc1d20d91f",
   "metadata": {},
   "outputs": [],
   "source": [
    "new_df.to_csv(DATA_DIR / 'for_bandler_1802.csv')"
   ]
  },
  {
   "cell_type": "markdown",
   "id": "8f9e391a-952a-4765-8e25-d78b0324d1ee",
   "metadata": {},
   "source": [
    "## Run Bandler"
   ]
  },
  {
   "cell_type": "code",
   "execution_count": 24,
   "id": "41ef94c5-d13c-4456-bc8b-040ed9d38aff",
   "metadata": {},
   "outputs": [
    {
     "name": "stderr",
     "output_type": "stream",
     "text": [
      "A subdirectory or file Results already exists.\n"
     ]
    }
   ],
   "source": [
    "!mkdir Results"
   ]
  },
  {
   "cell_type": "code",
   "execution_count": 25,
   "id": "27c1d466-639a-4308-b9a9-8810654031fd",
   "metadata": {},
   "outputs": [
    {
     "name": "stdout",
     "output_type": "stream",
     "text": [
      " Volume in drive C is OSDisk\n",
      " Volume Serial Number is E8B0-185F\n",
      "\n",
      " Directory of C:\\Users\\sandeh\\OneDrive - Karolinska Institutet\\lineage_tracing_ear\\results\\Sept2023\n",
      "\n",
      "2024-02-18  20:48    <DIR>          .\n",
      "2024-02-18  20:48    <DIR>          ..\n",
      "2024-02-18  20:48            78 593 Clonalcoupling1802.csv\n",
      "2023-09-07  15:24         1 094 790 cloneID info.xlsx\n",
      "2023-09-07  13:19            85 665 Couplingallclusters.csv\n",
      "2023-09-07  13:29            86 169 Coupling_minMP_mincloneID0.csv\n",
      "2023-09-07  15:03            85 214 Coupling_minSGNcont_mincloneID0.csv\n",
      "2023-09-07  15:12            84 522 Coupling_minSGNcont_minMP_mincloneID0.csv\n",
      "2023-09-07  15:24            84 522 Coupling_minSGNcont_minMP_mincloneID0_SGNcombined.csv\n",
      "2023-09-07  13:19           140 759 for_bandler_02.csv\n",
      "2023-09-07  13:57           140 747 for_bandler_03.csv\n",
      "2023-09-07  15:24           138 794 for_bandler_04.csv\n",
      "2024-02-18  20:48           128 221 for_bandler_1802.csv\n",
      "              11 File(s)      2 147 996 bytes\n",
      "               2 Dir(s)  47 335 489 536 bytes free\n"
     ]
    }
   ],
   "source": [
    "!dir ..\\results\\Sept2023\\"
   ]
  },
  {
   "cell_type": "code",
   "execution_count": 26,
   "id": "8cc09ab8-24ac-493d-a7b2-e1dd22ab40e4",
   "metadata": {
    "tags": []
   },
   "outputs": [
    {
     "name": "stdout",
     "output_type": "stream",
     "text": [
      "Run 'python lineage_coupling_analysis.py -h' for displaying usage.\n",
      "Filtering clones with less than 1 cells.\n",
      "Originally there are 10125 rows and 2250 clones.\n",
      "0 deleted rows of 0 clones.\n",
      "Total examined rows: 10125.\n",
      "Writing numbers of shared clones per pair into csv file 'Results/num_shared_clones_matrix.csv'\n",
      "Writing numbers of cells of shared clones in pairs into csv file 'Results/num_cells_of_shared_clones_matrix.csv'\n",
      "Writing metric values per pair into csv file 'Results/metric_values_per_state_pair_matrix.csv'\n",
      "Computing lineage coupling scores for data in '../results/Sept2023/for_bandler_1802.csv', with 100 shufflings, clustermap_minimum -5.0, and clustermap_maximum 5.0\n",
      "Figure(1000x1000)\n",
      "Figure(1000x1000)\n"
     ]
    }
   ],
   "source": [
    "!python \"Bandler-et-al_lineage/Lineage Coupling Analysis/2_lineage_coupling_analysis.py\" -f ../results/Sept2023/for_bandler_1802.csv"
   ]
  }
 ],
 "metadata": {
  "kernelspec": {
   "display_name": "Python 3 (ipykernel)",
   "language": "python",
   "name": "python3"
  },
  "language_info": {
   "codemirror_mode": {
    "name": "ipython",
    "version": 3
   },
   "file_extension": ".py",
   "mimetype": "text/x-python",
   "name": "python",
   "nbconvert_exporter": "python",
   "pygments_lexer": "ipython3",
   "version": "3.11.9"
  }
 },
 "nbformat": 4,
 "nbformat_minor": 5
}
