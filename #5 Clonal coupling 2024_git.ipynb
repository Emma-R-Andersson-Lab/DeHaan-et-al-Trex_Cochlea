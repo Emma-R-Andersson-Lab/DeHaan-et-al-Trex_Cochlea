{
 "cells": [
  {
   "cell_type": "markdown",
   "id": "9530d133-1a63-4c65-be8a-835f1c332aaa",
   "metadata": {},
   "source": [
    "# Heatmap for Observed vs Expected\n",
    "\n",
    "We are going to use the [Bandler et al.](https://github.com/mayer-lab/Bandler-et-al_lineage/tree/main) code as is to estimate the expected rleations between clusters and then make a heatmap of observed vs expected."
   ]
  },
  {
   "cell_type": "code",
   "execution_count": 1,
   "id": "1fdc1f42",
   "metadata": {},
   "outputs": [
    {
     "data": {
      "text/plain": [
       "'C:\\\\Users\\\\sandeh\\\\OneDrive - Karolinska Institutet\\\\copy_lineage_tracing_ear\\\\src'"
      ]
     },
     "execution_count": 1,
     "metadata": {},
     "output_type": "execute_result"
    }
   ],
   "source": [
    "pwd"
   ]
  },
  {
   "cell_type": "code",
   "execution_count": 2,
   "id": "a067c612-0c6b-434e-a8c3-d06fba01e96b",
   "metadata": {},
   "outputs": [],
   "source": [
    "import pathlib\n",
    "import pandas as pd"
   ]
  },
  {
   "cell_type": "markdown",
   "id": "3b04b7f3-ae42-4465-92bd-1e3cfb9c628f",
   "metadata": {},
   "source": [
    "## Data input preparation\n",
    "\n",
    "Bandler et al takes a CSV file with only two rows (cloneID and cell type) as input."
   ]
  },
  {
   "cell_type": "code",
   "execution_count": 3,
   "id": "8b0085d5-052f-4f4b-9320-4c09951625a5",
   "metadata": {},
   "outputs": [],
   "source": [
    "DATA_DIR = pathlib.Path('../results/Sept2023')"
   ]
  },
  {
   "cell_type": "code",
   "execution_count": 6,
   "id": "92e20001-21e6-48b0-99d9-71f3b7f1a1a3",
   "metadata": {},
   "outputs": [],
   "source": [
    "# df = pd.read_excel(DATA_DIR / 'Upset_Trex_mt10dim40_SCT_clone_sub2.xlsx')\n",
    "df = pd.read_csv(DATA_DIR / 'clonalcoupling2802.csv', sep=\";\")"
   ]
  },
  {
   "cell_type": "code",
   "execution_count": 7,
   "id": "2b7e3e46-b66d-4dcf-9ecd-84c5efa8b75f",
   "metadata": {},
   "outputs": [
    {
     "data": {
      "text/html": [
       "<div>\n",
       "<style scoped>\n",
       "    .dataframe tbody tr th:only-of-type {\n",
       "        vertical-align: middle;\n",
       "    }\n",
       "\n",
       "    .dataframe tbody tr th {\n",
       "        vertical-align: top;\n",
       "    }\n",
       "\n",
       "    .dataframe thead th {\n",
       "        text-align: right;\n",
       "    }\n",
       "</style>\n",
       "<table border=\"1\" class=\"dataframe\">\n",
       "  <thead>\n",
       "    <tr style=\"text-align: right;\">\n",
       "      <th></th>\n",
       "      <th>seurat_clusters</th>\n",
       "      <th>cloneID</th>\n",
       "    </tr>\n",
       "  </thead>\n",
       "  <tbody>\n",
       "    <tr>\n",
       "      <th>0</th>\n",
       "      <td>22</td>\n",
       "      <td>316</td>\n",
       "    </tr>\n",
       "    <tr>\n",
       "      <th>1</th>\n",
       "      <td>22</td>\n",
       "      <td>101</td>\n",
       "    </tr>\n",
       "    <tr>\n",
       "      <th>2</th>\n",
       "      <td>22</td>\n",
       "      <td>798</td>\n",
       "    </tr>\n",
       "    <tr>\n",
       "      <th>3</th>\n",
       "      <td>22</td>\n",
       "      <td>529</td>\n",
       "    </tr>\n",
       "    <tr>\n",
       "      <th>4</th>\n",
       "      <td>22</td>\n",
       "      <td>529</td>\n",
       "    </tr>\n",
       "    <tr>\n",
       "      <th>...</th>\n",
       "      <td>...</td>\n",
       "      <td>...</td>\n",
       "    </tr>\n",
       "    <tr>\n",
       "      <th>8815</th>\n",
       "      <td>0</td>\n",
       "      <td>458</td>\n",
       "    </tr>\n",
       "    <tr>\n",
       "      <th>8816</th>\n",
       "      <td>0</td>\n",
       "      <td>458</td>\n",
       "    </tr>\n",
       "    <tr>\n",
       "      <th>8817</th>\n",
       "      <td>0</td>\n",
       "      <td>458</td>\n",
       "    </tr>\n",
       "    <tr>\n",
       "      <th>8818</th>\n",
       "      <td>0</td>\n",
       "      <td>458</td>\n",
       "    </tr>\n",
       "    <tr>\n",
       "      <th>8819</th>\n",
       "      <td>0</td>\n",
       "      <td>458</td>\n",
       "    </tr>\n",
       "  </tbody>\n",
       "</table>\n",
       "<p>8820 rows × 2 columns</p>\n",
       "</div>"
      ],
      "text/plain": [
       "      seurat_clusters  cloneID\n",
       "0                  22      316\n",
       "1                  22      101\n",
       "2                  22      798\n",
       "3                  22      529\n",
       "4                  22      529\n",
       "...               ...      ...\n",
       "8815                0      458\n",
       "8816                0      458\n",
       "8817                0      458\n",
       "8818                0      458\n",
       "8819                0      458\n",
       "\n",
       "[8820 rows x 2 columns]"
      ]
     },
     "execution_count": 7,
     "metadata": {},
     "output_type": "execute_result"
    }
   ],
   "source": [
    "df"
   ]
  },
  {
   "cell_type": "code",
   "execution_count": 8,
   "id": "f6558053-e8af-4657-8d93-feca061f70be",
   "metadata": {},
   "outputs": [],
   "source": [
    "new_df = df[['cloneID', 'seurat_clusters']].rename(columns={'seurat_clusters': 'ident'})"
   ]
  },
  {
   "cell_type": "code",
   "execution_count": 9,
   "id": "d69eb688-c93a-4cab-9495-791b66424cb2",
   "metadata": {},
   "outputs": [
    {
     "data": {
      "text/html": [
       "<div>\n",
       "<style scoped>\n",
       "    .dataframe tbody tr th:only-of-type {\n",
       "        vertical-align: middle;\n",
       "    }\n",
       "\n",
       "    .dataframe tbody tr th {\n",
       "        vertical-align: top;\n",
       "    }\n",
       "\n",
       "    .dataframe thead th {\n",
       "        text-align: right;\n",
       "    }\n",
       "</style>\n",
       "<table border=\"1\" class=\"dataframe\">\n",
       "  <thead>\n",
       "    <tr style=\"text-align: right;\">\n",
       "      <th></th>\n",
       "      <th>cloneID</th>\n",
       "      <th>ident</th>\n",
       "    </tr>\n",
       "  </thead>\n",
       "  <tbody>\n",
       "    <tr>\n",
       "      <th>0</th>\n",
       "      <td>316</td>\n",
       "      <td>22</td>\n",
       "    </tr>\n",
       "    <tr>\n",
       "      <th>1</th>\n",
       "      <td>101</td>\n",
       "      <td>22</td>\n",
       "    </tr>\n",
       "    <tr>\n",
       "      <th>2</th>\n",
       "      <td>798</td>\n",
       "      <td>22</td>\n",
       "    </tr>\n",
       "    <tr>\n",
       "      <th>3</th>\n",
       "      <td>529</td>\n",
       "      <td>22</td>\n",
       "    </tr>\n",
       "    <tr>\n",
       "      <th>4</th>\n",
       "      <td>529</td>\n",
       "      <td>22</td>\n",
       "    </tr>\n",
       "    <tr>\n",
       "      <th>...</th>\n",
       "      <td>...</td>\n",
       "      <td>...</td>\n",
       "    </tr>\n",
       "    <tr>\n",
       "      <th>8815</th>\n",
       "      <td>458</td>\n",
       "      <td>0</td>\n",
       "    </tr>\n",
       "    <tr>\n",
       "      <th>8816</th>\n",
       "      <td>458</td>\n",
       "      <td>0</td>\n",
       "    </tr>\n",
       "    <tr>\n",
       "      <th>8817</th>\n",
       "      <td>458</td>\n",
       "      <td>0</td>\n",
       "    </tr>\n",
       "    <tr>\n",
       "      <th>8818</th>\n",
       "      <td>458</td>\n",
       "      <td>0</td>\n",
       "    </tr>\n",
       "    <tr>\n",
       "      <th>8819</th>\n",
       "      <td>458</td>\n",
       "      <td>0</td>\n",
       "    </tr>\n",
       "  </tbody>\n",
       "</table>\n",
       "<p>8820 rows × 2 columns</p>\n",
       "</div>"
      ],
      "text/plain": [
       "      cloneID  ident\n",
       "0         316     22\n",
       "1         101     22\n",
       "2         798     22\n",
       "3         529     22\n",
       "4         529     22\n",
       "...       ...    ...\n",
       "8815      458      0\n",
       "8816      458      0\n",
       "8817      458      0\n",
       "8818      458      0\n",
       "8819      458      0\n",
       "\n",
       "[8820 rows x 2 columns]"
      ]
     },
     "execution_count": 9,
     "metadata": {},
     "output_type": "execute_result"
    }
   ],
   "source": [
    "new_df"
   ]
  },
  {
   "cell_type": "code",
   "execution_count": 10,
   "id": "45520d85-ea75-404d-80d4-96cc1d20d91f",
   "metadata": {},
   "outputs": [],
   "source": [
    "new_df.to_csv(DATA_DIR / 'for_bandler_1802.csv')"
   ]
  },
  {
   "cell_type": "markdown",
   "id": "8f9e391a-952a-4765-8e25-d78b0324d1ee",
   "metadata": {},
   "source": [
    "## Run Bandler"
   ]
  },
  {
   "cell_type": "code",
   "execution_count": 11,
   "id": "41ef94c5-d13c-4456-bc8b-040ed9d38aff",
   "metadata": {},
   "outputs": [
    {
     "name": "stderr",
     "output_type": "stream",
     "text": [
      "A subdirectory or file Results already exists.\n"
     ]
    }
   ],
   "source": [
    "!mkdir Results"
   ]
  },
  {
   "cell_type": "code",
   "execution_count": 12,
   "id": "27c1d466-639a-4308-b9a9-8810654031fd",
   "metadata": {},
   "outputs": [
    {
     "name": "stdout",
     "output_type": "stream",
     "text": [
      " Volume in drive C is OSDisk\n",
      " Volume Serial Number is E8B0-185F\n",
      "\n",
      " Directory of C:\\Users\\sandeh\\OneDrive - Karolinska Institutet\\copy_lineage_tracing_ear\\results\\Sept2023\n",
      "\n",
      "2024-06-06  10:02    <DIR>          .\n",
      "2024-06-06  10:02    <DIR>          ..\n",
      "2024-06-05  13:06           (5 578) apexmidbaseonly.csv\n",
      "2024-03-04  21:04          (12 738) clonalcoupling0403_floorminusko.csv\n",
      "2024-03-04  13:26          (68 105) clonalcoupling0403_nomp.csv\n",
      "2024-03-04  13:50          (46 846) clonalcoupling0403_nompnoglia.csv\n",
      "2024-03-04  14:44          (41 857) clonalcoupling0403_nompnoglia_SVISVMRMSGN.csv\n",
      "2024-02-28  15:07            68 403 clonalcoupling2802.csv\n",
      "2024-04-08  14:20          (46 881) clonalcouplingminusMPandMPclones0804.csv\n",
      "2023-09-07  15:24       (1 094 790) cloneID info.xlsx\n",
      "2023-09-07  13:19          (85 665) Couplingallclusters.csv\n",
      "2024-03-01  16:43          (13 117) for_bandler_0103.csv\n",
      "2024-03-01  15:51          (20 377) for_bandler_0103_KO.csv\n",
      "2023-09-07  13:19         (140 759) for_bandler_02.csv\n",
      "2023-09-07  13:57         (140 747) for_bandler_03.csv\n",
      "2023-09-07  15:24         (138 794) for_bandler_04.csv\n",
      "2024-03-04  13:26         (110 903) for_bandler_0403.csv\n",
      "2024-03-04  13:51          (76 049) for_bandler_0403_2.csv\n",
      "2024-03-04  14:44          (68 015) for_bandler_0403_3.csv\n",
      "2024-04-08  13:56          (19 346) for_bandler_0403_4.csv\n",
      "2024-04-30  11:25          (76 104) for_bandler_0804.csv\n",
      "2024-12-06  14:23         (111 381) for_bandler_1802.csv\n",
      "2024-02-27  15:21         (110 929) for_bandler_2702.csv\n",
      "2024-03-04  12:09         (111 381) for_bandler_2802.csv\n",
      "2024-06-06  09:05           (8 351) for_bandler_3004.csv\n",
      "2024-06-04  10:12           (8 678) tonoall.csv\n",
      "2024-06-05  17:39           (5 990) tonoall_HC.csv\n",
      "2024-06-04  13:43           (7 263) tonoall_IHCOHCOPCDC3.csv\n",
      "2024-06-04  12:35           (8 230) tonoall_noIPC.csv\n",
      "2024-06-04  10:20           (6 450) tonoall_onlyDCOHCOPC.csv\n",
      "2024-05-29  17:53           (7 932) tonoapexbase.csv\n",
      "2024-06-04  09:32           (7 109) tonoapexbasenoIHC.csv\n",
      "2024-06-05  17:15           (6 116) tonoapexbase_HC.csv\n",
      "2024-06-04  13:25           (7 476) tonoapexbase_IHCOPCOHCDC3.csv\n",
      "2024-06-05  17:09           (7 393) tonoapexbase_IHCOPCOHCDC3_noIHCapex.csv\n",
      "2024-06-04  11:47           (8 965) tonoapexbase_incIphc.csv\n",
      "2024-06-04  12:27           (8 509) tonoapexbase_noIPC.csv\n",
      "2024-06-06  10:02           (9 135) tonoapexbase_OPCOHCDC3.csv\n",
      "2024-05-01  16:07           (4 850) tonotopy.csv\n",
      "2024-05-03  11:54           (4 524) Tonotopy0305.csv\n",
      "2024-05-01  14:54           (6 706) tonotopycelltype.csv\n",
      "2024-04-30  15:37           (4 715) tonotopycelltype_nomid.csv\n",
      "2024-05-01  16:14             (901) tonotopyIHC.csv\n",
      "2024-05-01  16:27           (6 054) tonotopyIHCOHC.csv\n",
      "2024-05-01  16:17           (5 172) tonotopyOHC.csv\n",
      "2024-05-14  10:31           (3 745) Tonotopy_0305.csv\n",
      "2024-05-06  09:08           (3 800) Tonotopy_0605.csv\n",
      "2024-05-07  14:23           (3 750) Tonotopy_0605_2.csv\n",
      "2024-05-21  11:11           (3 753) Tonotopy_2105.csv\n",
      "              47 File(s)      2 764 332 bytes\n",
      "               2 Dir(s)   9 829 388 288 bytes free\n"
     ]
    }
   ],
   "source": [
    "!dir ..\\results\\Sept2023\\"
   ]
  },
  {
   "cell_type": "code",
   "execution_count": null,
   "id": "8cc09ab8-24ac-493d-a7b2-e1dd22ab40e4",
   "metadata": {
    "tags": []
   },
   "outputs": [],
   "source": [
    "!python \"Bandler-et-al_lineage/Lineage Coupling Analysis/2_lineage_coupling_analysis.py\" -f ../results/Sept2023/for_bandler_1802.csv -N 10000"
   ]
  },
  {
   "cell_type": "code",
   "execution_count": null,
   "id": "a20fa2ce",
   "metadata": {},
   "outputs": [],
   "source": []
  }
 ],
 "metadata": {
  "kernelspec": {
   "display_name": "Python 3 (ipykernel)",
   "language": "python",
   "name": "python3"
  },
  "language_info": {
   "codemirror_mode": {
    "name": "ipython",
    "version": 3
   },
   "file_extension": ".py",
   "mimetype": "text/x-python",
   "name": "python",
   "nbconvert_exporter": "python",
   "pygments_lexer": "ipython3",
   "version": "3.11.9"
  }
 },
 "nbformat": 4,
 "nbformat_minor": 5
}
